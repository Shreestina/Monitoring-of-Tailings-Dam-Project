{
 "cells": [
  {
   "cell_type": "code",
   "execution_count": 1,
   "metadata": {
    "nbgrader": {
     "grade": false,
     "grade_id": "cell-e9cdc46eb1a16b7b",
     "locked": false,
     "schema_version": 1,
     "solution": true
    }
   },
   "outputs": [],
   "source": [
    "import pandas as pd\n",
    "\n",
    "from sqlalchemy import create_engine\n",
    "import sqlite3\n",
    "import sqlalchemy\n",
    "from sqlalchemy.ext.automap import automap_base\n",
    "from sqlalchemy.orm import Session\n",
    "from sqlalchemy import create_engine, inspect\n",
    "from sqlalchemy import func\n",
    "import json"
   ]
  },
  {
   "cell_type": "code",
   "execution_count": 2,
   "metadata": {
    "nbgrader": {
     "grade": false,
     "grade_id": "cell-0a9629333439cef4",
     "locked": false,
     "schema_version": 1,
     "solution": true
    }
   },
   "outputs": [
    {
     "data": {
      "text/html": [
       "<div>\n",
       "<style scoped>\n",
       "    .dataframe tbody tr th:only-of-type {\n",
       "        vertical-align: middle;\n",
       "    }\n",
       "\n",
       "    .dataframe tbody tr th {\n",
       "        vertical-align: top;\n",
       "    }\n",
       "\n",
       "    .dataframe thead th {\n",
       "        text-align: right;\n",
       "    }\n",
       "</style>\n",
       "<table border=\"1\" class=\"dataframe\">\n",
       "  <thead>\n",
       "    <tr style=\"text-align: right;\">\n",
       "      <th></th>\n",
       "      <th>names</th>\n",
       "      <th>metadata</th>\n",
       "      <th>samples</th>\n",
       "    </tr>\n",
       "  </thead>\n",
       "  <tbody>\n",
       "    <tr>\n",
       "      <th>0</th>\n",
       "      <td>38</td>\n",
       "      <td>{'Node_id': 38, 'Gateway_ID': 21545, 'Model': ...</td>\n",
       "      <td>{'Node_id': '38', 'otu_ids': ['5/05/2016', '6/...</td>\n",
       "    </tr>\n",
       "    <tr>\n",
       "      <th>1</th>\n",
       "      <td>39</td>\n",
       "      <td>{'Node_id': 39, 'Gateway_ID': 21545, 'Model': ...</td>\n",
       "      <td>{'Node_id': '39', 'otu_ids': ['5/05/2016', '6/...</td>\n",
       "    </tr>\n",
       "    <tr>\n",
       "      <th>2</th>\n",
       "      <td>40</td>\n",
       "      <td>{'Node_id': 40, 'Gateway_ID': 21545, 'Model': ...</td>\n",
       "      <td>{'Node_id': '40', 'otu_ids': ['5/05/2016', '6/...</td>\n",
       "    </tr>\n",
       "    <tr>\n",
       "      <th>3</th>\n",
       "      <td>41</td>\n",
       "      <td>{'Node_id': 41, 'Gateway_ID': 21545, 'Model': ...</td>\n",
       "      <td>{'Node_id': '41', 'otu_ids': ['5/05/2016', '6/...</td>\n",
       "    </tr>\n",
       "    <tr>\n",
       "      <th>4</th>\n",
       "      <td>42</td>\n",
       "      <td>{'Node_id': 42, 'Gateway_ID': 21545, 'Model': ...</td>\n",
       "      <td>{'Node_id': '42', 'otu_ids': ['5/05/2016', '6/...</td>\n",
       "    </tr>\n",
       "  </tbody>\n",
       "</table>\n",
       "</div>"
      ],
      "text/plain": [
       "   names                                           metadata  \\\n",
       "0     38  {'Node_id': 38, 'Gateway_ID': 21545, 'Model': ...   \n",
       "1     39  {'Node_id': 39, 'Gateway_ID': 21545, 'Model': ...   \n",
       "2     40  {'Node_id': 40, 'Gateway_ID': 21545, 'Model': ...   \n",
       "3     41  {'Node_id': 41, 'Gateway_ID': 21545, 'Model': ...   \n",
       "4     42  {'Node_id': 42, 'Gateway_ID': 21545, 'Model': ...   \n",
       "\n",
       "                                             samples  \n",
       "0  {'Node_id': '38', 'otu_ids': ['5/05/2016', '6/...  \n",
       "1  {'Node_id': '39', 'otu_ids': ['5/05/2016', '6/...  \n",
       "2  {'Node_id': '40', 'otu_ids': ['5/05/2016', '6/...  \n",
       "3  {'Node_id': '41', 'otu_ids': ['5/05/2016', '6/...  \n",
       "4  {'Node_id': '42', 'otu_ids': ['5/05/2016', '6/...  "
      ]
     },
     "execution_count": 2,
     "metadata": {},
     "output_type": "execute_result"
    }
   ],
   "source": [
    "#Reading the json file\n",
    "jsondata = pd.read_json(\"data/samples.json\")\n",
    "jsondata"
   ]
  },
  {
   "cell_type": "code",
   "execution_count": 3,
   "metadata": {
    "nbgrader": {
     "grade": false,
     "grade_id": "cell-a2cbfd30ace44821",
     "locked": false,
     "schema_version": 1,
     "solution": true
    }
   },
   "outputs": [
    {
     "data": {
      "text/plain": [
       "names        int64\n",
       "metadata    object\n",
       "samples     object\n",
       "dtype: object"
      ]
     },
     "execution_count": 3,
     "metadata": {},
     "output_type": "execute_result"
    }
   ],
   "source": [
    "#Checking the datatype of each column\n",
    "jsondata.dtypes"
   ]
  },
  {
   "cell_type": "code",
   "execution_count": 4,
   "metadata": {},
   "outputs": [],
   "source": [
    "#Converting the columns type as mentioned\n",
    "#If not converted shows error while fetchong the data in the table\n",
    "jsondata['names']= jsondata['names'].astype('str')\n",
    "jsondata['metadata']= jsondata['metadata'].astype('str')\n",
    "jsondata['samples']= jsondata['samples'].astype('str')\n",
    "#jsondata['metadata'] = jsondata['metadata'].apply(json.dumps).astype('string')"
   ]
  },
  {
   "cell_type": "code",
   "execution_count": 5,
   "metadata": {},
   "outputs": [
    {
     "data": {
      "text/plain": [
       "names       object\n",
       "metadata    object\n",
       "samples     object\n",
       "dtype: object"
      ]
     },
     "execution_count": 5,
     "metadata": {},
     "output_type": "execute_result"
    }
   ],
   "source": [
    "jsondata.dtypes"
   ]
  },
  {
   "cell_type": "code",
   "execution_count": 6,
   "metadata": {},
   "outputs": [],
   "source": [
    "#Creating the database \"peizodata.sqlite\"\n",
    "engine = create_engine(\"sqlite:///peizodata.sqlite\", echo=False)\n",
    "conn = engine.connect()"
   ]
  },
  {
   "cell_type": "code",
   "execution_count": 7,
   "metadata": {},
   "outputs": [
    {
     "data": {
      "text/plain": [
       "<sqlalchemy.engine.cursor.LegacyCursorResult at 0x23cfeaf7e80>"
      ]
     },
     "execution_count": 7,
     "metadata": {},
     "output_type": "execute_result"
    }
   ],
   "source": [
    "\n",
    "#Drop table if it exists\n",
    "engine.execute('DROP TABLE IF EXISTS peizometer;')\n",
    "#Create table and specify primary key\n",
    "engine.execute('CREATE TABLE \"peizometer\" ('\n",
    "               'names TEXT,'\n",
    "               'metadata TEXT, '\n",
    "                'samples TEXT,'\n",
    "               'PRIMARY KEY (names));')"
   ]
  },
  {
   "cell_type": "code",
   "execution_count": 8,
   "metadata": {},
   "outputs": [],
   "source": [
    "#jsondata.to_sql('peizometer',con=engine,if_exists='append',index=False)\n",
    "\n",
    "#Converting the \"jsondata dataframe\" to sqlite file and replacing the data in the table named \"peizometer\"\n",
    "jsondata.to_sql(name ='peizometer',con=engine,if_exists='replace',index=False)"
   ]
  },
  {
   "cell_type": "code",
   "execution_count": 9,
   "metadata": {},
   "outputs": [
    {
     "data": {
      "text/plain": [
       "[('38', \"{'Node_id': 38, 'Gateway_ID': 21545, 'Model': 'LS-G6-VW-5-FCC', 'Piezometer_Channel': 5, 'Piezometer_ID': 'VW38', 'Installation_Date': '5/05/2018', ' ... (105 characters truncated) ... d': 15.02020495, 'Tip Elevation': 605, 'Maxpressure': -10.97, 'Minimumpressure': -22.03, 'Date_last_reading': '20/03/2021', 'Latest_pressure': -21.8}\", \"{'Node_id': '38', 'otu_ids': ['5/05/2016', '6/05/2016', '7/05/2016', '8/05/2016', '9/05/2016', '10/05/2016', '11/05/2016', '12/05/2016', '13/05/2016' ... (6889 characters truncated) ... -21.75, -21.82, -21.9, -21.87, -21.72, -21.68, -21.7, -21.82, -21.79, -21.92, -22.03, -21.79, -21.81, -21.93, -21.93, -21.79, -21.81, -21.85, -21.8]}\"),\n",
       " ('39', \"{'Node_id': 39, 'Gateway_ID': 21545, 'Model': 'LS-G6-VW-5-FCC', 'Piezometer_Channel': 4, 'Piezometer_ID': 'VW39', 'Installation_Date': '5/05/2018', ' ... (103 characters truncated) ... tud': 15.02020495, 'Tip Elevation': 603, 'Maxpressure': 23.83, 'Minimumpressure': 10.31, 'Date_last_reading': '20/03/2021', 'Latest_pressure': 18.74}\", \"{'Node_id': '39', 'otu_ids': ['5/05/2016', '6/05/2016', '7/05/2016', '8/05/2016', '9/05/2016', '10/05/2016', '11/05/2016', '12/05/2016', '13/05/2016' ... (6557 characters truncated) ... 8.4, 18.38, 18.39, 18.45, 18.48, 18.45, 18.46, 18.52, 18.6, 18.64, 18.58, 18.63, 18.56, 18.54, 18.6, 18.7, 18.65, 18.65, 18.74, 18.72, 18.75, 18.74]}\"),\n",
       " ('40', \"{'Node_id': 40, 'Gateway_ID': 21545, 'Model': 'LS-G6-VW-5-FCC', 'Piezometer_Channel': 3, 'Piezometer_ID': 'VW40', 'Installation_Date': '5/05/2018', ' ... (106 characters truncated) ... ': 15.02020495, 'Tip Elevation': 602, 'Maxpressure': -10.62, 'Minimumpressure': -20.32, 'Date_last_reading': '20/03/2021', 'Latest_pressure': -20.73}\", \"{'Node_id': '40', 'otu_ids': ['5/05/2016', '6/05/2016', '7/05/2016', '8/05/2016', '9/05/2016', '10/05/2016', '11/05/2016', '12/05/2016', '13/05/2016' ... (9283 characters truncated) ... 20.7, -20.77, -20.87, -20.82, -20.65, -20.62, -20.62, -20.77, -20.71, -20.87, -20.92, -20.7, -20.76, -20.88, -20.84, -20.72, -20.68, -20.78, -20.73]}\"),\n",
       " ('41', \"{'Node_id': 41, 'Gateway_ID': 21545, 'Model': 'LS-G6-VW-5-FCC', 'Piezometer_Channel': 2, 'Piezometer_ID': 'VW41', 'Installation_Date': '5/05/2018', ' ... (104 characters truncated) ... ud': 15.02020495, 'Tip Elevation': 600, 'Maxpressure': -1.77, 'Minimumpressure': -16.72, 'Date_last_reading': '20/03/2021', 'Latest_pressure': -5.32}\", \"{'Node_id': '41', 'otu_ids': ['5/05/2016', '6/05/2016', '7/05/2016', '8/05/2016', '9/05/2016', '10/05/2016', '11/05/2016', '12/05/2016', '13/05/2016' ... (6918 characters truncated) ... .7, -5.64, -5.61, -5.64, -5.64, -5.5600000000000005, -5.48, -5.43, -5.5, -5.46, -5.46, -5.54, -5.49, -5.41, -5.41, -5.45, -5.38, -5.32, -5.3, -5.32]}\"),\n",
       " ('42', \"{'Node_id': 42, 'Gateway_ID': 21545, 'Model': 'LS-G6-VW-5-FCC', 'Piezometer_Channel': 1, 'Piezometer_ID': 'VW42', 'Installation_Date': '5/05/2018', ' ... (115 characters truncated) ... 20495, 'Tip Elevation': 599, 'Maxpressure': 16.6, 'Minimumpressure': 0.9500000000000001, 'Date_last_reading': '20/03/2021', 'Latest_pressure': 12.66}\", \"{'Node_id': '42', 'otu_ids': ['5/05/2016', '6/05/2016', '7/05/2016', '8/05/2016', '9/05/2016', '10/05/2016', '11/05/2016', '12/05/2016', '13/05/2016' ... (6429 characters truncated) ... 12.28, 12.25, 12.26, 12.32, 12.36, 12.32, 12.33, 12.4, 12.49, 12.53, 12.5, 12.55, 12.5, 12.43, 12.47, 12.58, 12.6, 12.6, 12.63, 12.68, 12.68, 12.66]}\")]"
      ]
     },
     "execution_count": 9,
     "metadata": {},
     "output_type": "execute_result"
    }
   ],
   "source": [
    "#Checking if the data reads from the table\n",
    "engine.execute(\"select * from peizometer\").fetchall()"
   ]
  },
  {
   "cell_type": "code",
   "execution_count": 10,
   "metadata": {},
   "outputs": [
    {
     "data": {
      "text/plain": [
       "['node', 'peizometer', 'sample']"
      ]
     },
     "execution_count": 10,
     "metadata": {},
     "output_type": "execute_result"
    }
   ],
   "source": [
    "inspector = inspect(engine)\n",
    "\n",
    "# Collect the names of tables within the database\n",
    "inspector.get_table_names()"
   ]
  },
  {
   "cell_type": "code",
   "execution_count": 11,
   "metadata": {},
   "outputs": [
    {
     "name": "stdout",
     "output_type": "stream",
     "text": [
      "names TEXT\n",
      "metadata TEXT\n",
      "samples TEXT\n"
     ]
    }
   ],
   "source": [
    "#To get the names of columns in the table\n",
    "columns = inspector.get_columns('peizometer')\n",
    "for column in columns:\n",
    "    print(column[\"name\"], column[\"type\"])"
   ]
  },
  {
   "cell_type": "code",
   "execution_count": 12,
   "metadata": {},
   "outputs": [
    {
     "data": {
      "text/plain": [
       "['node', 'sample']"
      ]
     },
     "execution_count": 12,
     "metadata": {},
     "output_type": "execute_result"
    }
   ],
   "source": [
    "# Reflect Database into ORM classes\n",
    "Base = automap_base()\n",
    "Base.prepare(engine, reflect=True)\n",
    "\n",
    "#This reflect the keys after we assign the primary key in the sqlite database\n",
    "Base.classes.keys()"
   ]
  }
 ],
 "metadata": {
  "celltoolbar": "Create Assignment",
  "kernelspec": {
   "display_name": "Python 3 (ipykernel)",
   "language": "python",
   "name": "python3"
  },
  "language_info": {
   "codemirror_mode": {
    "name": "ipython",
    "version": 3
   },
   "file_extension": ".py",
   "mimetype": "text/x-python",
   "name": "python",
   "nbconvert_exporter": "python",
   "pygments_lexer": "ipython3",
   "version": "3.9.7"
  },
  "varInspector": {
   "cols": {
    "lenName": 16,
    "lenType": 16,
    "lenVar": 40
   },
   "kernels_config": {
    "python": {
     "delete_cmd_postfix": "",
     "delete_cmd_prefix": "del ",
     "library": "var_list.py",
     "varRefreshCmd": "print(var_dic_list())"
    },
    "r": {
     "delete_cmd_postfix": ") ",
     "delete_cmd_prefix": "rm(",
     "library": "var_list.r",
     "varRefreshCmd": "cat(var_dic_list()) "
    }
   },
   "types_to_exclude": [
    "module",
    "function",
    "builtin_function_or_method",
    "instance",
    "_Feature"
   ],
   "window_display": false
  }
 },
 "nbformat": 4,
 "nbformat_minor": 2
}
